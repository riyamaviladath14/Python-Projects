{
  "nbformat": 4,
  "nbformat_minor": 0,
  "metadata": {
    "colab": {
      "provenance": [],
      "authorship_tag": "ABX9TyN1GP/0qowVfTQkFVuWTw1m",
      "include_colab_link": true
    },
    "kernelspec": {
      "name": "python3",
      "display_name": "Python 3"
    },
    "language_info": {
      "name": "python"
    }
  },
  "cells": [
    {
      "cell_type": "markdown",
      "metadata": {
        "id": "view-in-github",
        "colab_type": "text"
      },
      "source": [
        "<a href=\"https://colab.research.google.com/github/riyamaviladath14/Python-Projects/blob/main/Calculator.ipynb\" target=\"_parent\"><img src=\"https://colab.research.google.com/assets/colab-badge.svg\" alt=\"Open In Colab\"/></a>"
      ]
    },
    {
      "cell_type": "code",
      "execution_count": null,
      "metadata": {
        "id": "ITvNvoXaDkSg",
        "colab": {
          "base_uri": "https://localhost:8080/"
        },
        "outputId": "22b77794-67fa-4af5-89a8-4782ed7e0597"
      },
      "outputs": [
        {
          "output_type": "stream",
          "name": "stdout",
          "text": [
            "====== Simple Calculator =====\n",
            "Choose Operation: \n",
            "1. Add (+)\n",
            "2. Substract (-)\n",
            "3. Multiplication (*)\n",
            "4. Division (/)\n",
            "Enter choice : (1/2/3/4) 5\n",
            "Enter your first number: 54\n",
            "Enter your second number: 65\n",
            "Enter a valid operation\n"
          ]
        }
      ],
      "source": [
        "def add(x, y):\n",
        "  return x+y\n",
        "\n",
        "def substract(x, y):\n",
        "  return x-y\n",
        "\n",
        "def multiplication(x, y):\n",
        "  return x*y\n",
        "\n",
        "def division(x, y):\n",
        "  if y == 0:\n",
        "    return \"Error: Divison by 0\"\n",
        "  return x/y\n",
        "\n",
        "print(\"====== Simple Calculator =====\")\n",
        "print(\"Choose Operation: \")\n",
        "print(\"1. Add (+)\")\n",
        "print(\"2. Substract (-)\")\n",
        "print(\"3. Multiplication (*)\")\n",
        "print(\"4. Division (/)\")\n",
        "\n",
        "choice = input(\"Enter choice : (1/2/3/4) \")\n",
        "a = float(input(\"Enter your first number: \"))\n",
        "b = float(input(\"Enter your second number: \"))\n",
        "\n",
        "\n",
        "if choice == '1':\n",
        "  print(a, \"+\", b, \"=\", add(a, b))\n",
        "\n",
        "elif choice == '2':\n",
        "  print(a, \"-\", b, \"=\", substract(a, b))\n",
        "\n",
        "elif choice == '3':\n",
        "  print(a, \"*\", b, \"=\", multiplication(a, b))\n",
        "\n",
        "elif choice == '4':\n",
        "  print(a, \"/\", b, \"=\", division(a, b))\n",
        "\n",
        "else:\n",
        "   print(\"Enter a valid operation\")\n"
      ]
    },
    {
      "cell_type": "code",
      "source": [],
      "metadata": {
        "id": "rGaP6tRxSwZZ"
      },
      "execution_count": null,
      "outputs": []
    }
  ]
}