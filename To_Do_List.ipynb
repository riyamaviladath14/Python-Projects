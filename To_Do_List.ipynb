{
  "nbformat": 4,
  "nbformat_minor": 0,
  "metadata": {
    "colab": {
      "provenance": [],
      "toc_visible": true,
      "authorship_tag": "ABX9TyNf+t+hPkTi+aknIRQw3oTA",
      "include_colab_link": true
    },
    "kernelspec": {
      "name": "python3",
      "display_name": "Python 3"
    },
    "language_info": {
      "name": "python"
    }
  },
  "cells": [
    {
      "cell_type": "markdown",
      "metadata": {
        "id": "view-in-github",
        "colab_type": "text"
      },
      "source": [
        "<a href=\"https://colab.research.google.com/github/riyamaviladath14/Python-Projects/blob/main/To_Do_List.ipynb\" target=\"_parent\"><img src=\"https://colab.research.google.com/assets/colab-badge.svg\" alt=\"Open In Colab\"/></a>"
      ]
    },
    {
      "cell_type": "markdown",
      "source": [
        "This simple To-do list allows users to add, view, and delete tasks during a session"
      ],
      "metadata": {
        "id": "gcKeqJZojX-F"
      }
    },
    {
      "cell_type": "code",
      "execution_count": null,
      "metadata": {
        "id": "BYS4dXJUYWcv",
        "colab": {
          "base_uri": "https://localhost:8080/"
        },
        "outputId": "831ecbc2-3bdd-4009-93b5-d2ee1890a97f"
      },
      "outputs": [
        {
          "metadata": {
            "tags": null
          },
          "name": "stdout",
          "output_type": "stream",
          "text": [
            "\n",
            "=== To-Do List ===\n",
            "1. View Tasks\n",
            "2. Add Tasks\n",
            "3. Delete Tasks\n",
            "4. Exit\n",
            "Task added.\n",
            "\n",
            "=== To-Do List ===\n",
            "1. View Tasks\n",
            "2. Add Tasks\n",
            "3. Delete Tasks\n",
            "4. Exit\n",
            "Task added.\n",
            "\n",
            "=== To-Do List ===\n",
            "1. View Tasks\n",
            "2. Add Tasks\n",
            "3. Delete Tasks\n",
            "4. Exit\n",
            "Invalid option.\n",
            "\n",
            "=== To-Do List ===\n",
            "1. View Tasks\n",
            "2. Add Tasks\n",
            "3. Delete Tasks\n",
            "4. Exit\n",
            "Invalid option.\n",
            "\n",
            "=== To-Do List ===\n",
            "1. View Tasks\n",
            "2. Add Tasks\n",
            "3. Delete Tasks\n",
            "4. Exit\n",
            "Invalid option.\n",
            "\n",
            "=== To-Do List ===\n",
            "1. View Tasks\n",
            "2. Add Tasks\n",
            "3. Delete Tasks\n",
            "4. Exit\n",
            "1. Eat\n",
            "2. Sleep\n",
            "\n",
            "=== To-Do List ===\n",
            "1. View Tasks\n",
            "2. Add Tasks\n",
            "3. Delete Tasks\n",
            "4. Exit\n",
            "Task added.\n",
            "\n",
            "=== To-Do List ===\n",
            "1. View Tasks\n",
            "2. Add Tasks\n",
            "3. Delete Tasks\n",
            "4. Exit\n",
            "1. Eat\n",
            "2. Sleep\n",
            "3. Repeat\n",
            "\n",
            "=== To-Do List ===\n",
            "1. View Tasks\n",
            "2. Add Tasks\n",
            "3. Delete Tasks\n",
            "4. Exit\n"
          ]
        }
      ],
      "source": [
        "todo_list = []\n",
        "\n",
        "def show_tasks():\n",
        "  if not todo_list:\n",
        "    print(\"No tasks yet.\")\n",
        "  else:\n",
        "    for i, task in enumerate(todo_list, 1):\n",
        "      print(f\"{i}.{task}\")\n",
        "\n",
        "def add_tasks(task):\n",
        "  todo_list.append(task)\n",
        "  print(\"Task added.\")\n",
        "\n",
        "def delete_task(index):\n",
        "  if 0 < index <= len(todo_list):\n",
        "    removed = todo_list.pop(index-1)\n",
        "    print(f\"Deleted: {removed}\")\n",
        "  else:\n",
        "    print(\"Invalid task number.\")\n",
        "\n",
        "\n",
        "while True:\n",
        "  print(\"\\n=== To-Do List ===\")\n",
        "  print(\"1. View Tasks\")\n",
        "  print(\"2. Add Tasks\")\n",
        "  print(\"3. Delete Tasks\")\n",
        "  print(\"4. Exit\")\n",
        "\n",
        "  choice = input(\"Choose an option (1-4): \")\n",
        "\n",
        "  if choice == '1':\n",
        "    show_tasks()\n",
        "\n",
        "  elif choice == '2':\n",
        "    task = input(\"Enter task\")\n",
        "    add_tasks(task)\n",
        "\n",
        "  elif choice == '3':\n",
        "    show_tasks()\n",
        "    try:\n",
        "      idx = int(input(\"Enter task number to delete : \"))\n",
        "      delete_task(idx)\n",
        "    except ValueError:\n",
        "      print(\"Please enter a valid number.\")\n",
        "\n",
        "  elif choice == '4':\n",
        "    print(\"Good bye!\")\n",
        "    break\n",
        "\n",
        "  else:\n",
        "    print(\"Invalid option.\")\n",
        "\n",
        "\n",
        "\n",
        "\n",
        "\n",
        "\n",
        "\n"
      ]
    }
  ]
}